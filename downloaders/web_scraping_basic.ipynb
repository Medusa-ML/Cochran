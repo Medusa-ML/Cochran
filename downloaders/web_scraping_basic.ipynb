{
 "cells": [
  {
   "cell_type": "code",
   "execution_count": null,
   "metadata": {},
   "outputs": [],
   "source": [
    "!pip install beautifulsoup4"
   ]
  },
  {
   "cell_type": "code",
   "execution_count": null,
   "metadata": {},
   "outputs": [],
   "source": [
    "!pip install requests"
   ]
  },
  {
   "cell_type": "code",
   "execution_count": null,
   "metadata": {},
   "outputs": [],
   "source": [
    "!pip install pandas"
   ]
  },
  {
   "cell_type": "markdown",
   "metadata": {},
   "source": [
    "# Important Notice!\n",
    "\n",
    "If you ran ```!pip install ...```above you need to only run those cells once!\n",
    "after you run that cell you need to restart the kernel by going \"Kernel > Restart\" above or by pressing ```0```,```0```"
   ]
  },
  {
   "cell_type": "code",
   "execution_count": 1,
   "metadata": {},
   "outputs": [],
   "source": [
    "import requests\n",
    "import pandas as pd\n",
    "from bs4 import BeautifulSoup"
   ]
  },
  {
   "cell_type": "code",
   "execution_count": 2,
   "metadata": {},
   "outputs": [],
   "source": [
    "sitelist = [\n",
    "    {\n",
    "        \"url\":\"https://www.foxnews.com/world/court-overturns-sentence-feminist-simulated-aborting-jesus-catholic-altar-topless\",\n",
    "        \"politics\":\"R\"\n",
    "    },\n",
    "    {\n",
    "        \"url\":\"https://www.msnbc.com/opinion/msnbc-opinion/kanye-west-antisemitism-trump-antisemitism-explained-n1300214\",\n",
    "        \"politics\":\"D\"\n",
    "    }\n",
    "\n",
    "]"
   ]
  },
  {
   "cell_type": "code",
   "execution_count": 3,
   "metadata": {},
   "outputs": [
    {
     "data": {
      "text/html": [
       "<div>\n",
       "<style scoped>\n",
       "    .dataframe tbody tr th:only-of-type {\n",
       "        vertical-align: middle;\n",
       "    }\n",
       "\n",
       "    .dataframe tbody tr th {\n",
       "        vertical-align: top;\n",
       "    }\n",
       "\n",
       "    .dataframe thead th {\n",
       "        text-align: right;\n",
       "    }\n",
       "</style>\n",
       "<table border=\"1\" class=\"dataframe\">\n",
       "  <thead>\n",
       "    <tr style=\"text-align: right;\">\n",
       "      <th></th>\n",
       "      <th>website_text</th>\n",
       "      <th>politics_label</th>\n",
       "    </tr>\n",
       "  </thead>\n",
       "  <tbody>\n",
       "    <tr>\n",
       "      <th>0</th>\n",
       "      <td>\\n\\nCourt overturns sentence of feminist who s...</td>\n",
       "      <td>R</td>\n",
       "    </tr>\n",
       "    <tr>\n",
       "      <th>1</th>\n",
       "      <td>Kanye West antisemitism and Trump antisemitism...</td>\n",
       "      <td>D</td>\n",
       "    </tr>\n",
       "  </tbody>\n",
       "</table>\n",
       "</div>"
      ],
      "text/plain": [
       "                                        website_text politics_label\n",
       "0  \\n\\nCourt overturns sentence of feminist who s...              R\n",
       "1  Kanye West antisemitism and Trump antisemitism...              D"
      ]
     },
     "execution_count": 3,
     "metadata": {},
     "output_type": "execute_result"
    }
   ],
   "source": [
    "# Create empty dataframe\n",
    "features_list = [\"website_text\",\"politics_label\"]\n",
    "training_df = pd.DataFrame(columns = features_list)\n",
    "\n",
    "# create empty dictionary\n",
    "site_features = {}\n",
    "\n",
    "# loop through the sitelist\n",
    "for site in sitelist:\n",
    "    \n",
    "    # make an http request to get the site\n",
    "    response = requests.get(site[\"url\"])\n",
    "    \n",
    "    # pull the text and add to a site dataframe\n",
    "    site_features[\"website_text\"] = BeautifulSoup(response.text, \"html\").get_text()\n",
    "    site_features[\"politics_label\"] = site[\"politics\"]\n",
    "    site_df = pd.DataFrame(site_features, index = [0])\n",
    "    \n",
    "    # add the site dataframe to the training dataframe\n",
    "    training_df = pd.concat([training_df, site_df], ignore_index = True)\n",
    "\n",
    "\n",
    "training_df.head()    "
   ]
  },
  {
   "cell_type": "code",
   "execution_count": 4,
   "metadata": {},
   "outputs": [],
   "source": [
    "# save the dataset :)\n",
    "training_df.to_csv(\"../data/scraping_results.csv\")"
   ]
  },
  {
   "cell_type": "code",
   "execution_count": null,
   "metadata": {},
   "outputs": [],
   "source": []
  }
 ],
 "metadata": {
  "kernelspec": {
   "display_name": "Python 3",
   "language": "python",
   "name": "python3"
  },
  "language_info": {
   "codemirror_mode": {
    "name": "ipython",
    "version": 3
   },
   "file_extension": ".py",
   "mimetype": "text/x-python",
   "name": "python",
   "nbconvert_exporter": "python",
   "pygments_lexer": "ipython3",
   "version": "3.8.10"
  }
 },
 "nbformat": 4,
 "nbformat_minor": 2
}
