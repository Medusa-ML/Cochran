{
 "cells": [
  {
   "cell_type": "markdown",
   "metadata": {},
   "source": [
    "# Install dependencies\n",
    "\n",
    "* IMPORTANT: you only need to run this one time, when you first spin up your docker notebook server\n",
    "* IMPORTANT: you need to restart the kernel after you run this\n",
    "* TODO: these deps should be eventually put into a dockerfile\n",
    "\n",
    "* INFO: read more about [what the hell is pip](https://pip.pypa.io/en/stable/) and [why installing dependencies via pip in a notebook is a stupid idea, but OK since we are prototyping here](https://towardsdev.com/pip-install-from-jupyter-notebook-485c218b50b)"
   ]
  },
  {
   "cell_type": "code",
   "execution_count": null,
   "metadata": {},
   "outputs": [],
   "source": [
    "!pip install pandas\n",
    "!pip install datasets"
   ]
  },
  {
   "cell_type": "markdown",
   "metadata": {},
   "source": [
    "# Import libraries\n",
    "\n",
    "also setup the data directory"
   ]
  },
  {
   "cell_type": "code",
   "execution_count": 1,
   "metadata": {},
   "outputs": [],
   "source": [
    "import os\n",
    "import re\n",
    "import glob\n",
    "import shutil\n",
    "import string\n",
    "import pathlib\n",
    "\n",
    "# set the data directory\n",
    "data_dir = os.path.abspath(os.path.join(os.getcwd(),'..','data'))\n",
    "\n",
    "#give matplotlib a folder to save its configs\n",
    "os.environ['MPLCONFIGDIR'] = os.path.join(data_dir,'plt_configs')\n",
    "import matplotlib.pyplot as plt\n",
    "\n",
    "#give huggingface a folder to save its stuff in too\n",
    "#you only need this if you are using a huggingface dataset\n",
    "os.environ['HF_HOME'] = os.path.join(data_dir,'hf_cache')\n",
    "import datasets\n",
    "\n",
    "import tensorflow as tf\n",
    "from tensorflow.keras import layers\n",
    "from tensorflow.keras import losses\n",
    "from tensorflow.keras.layers import TextVectorization"
   ]
  },
  {
   "cell_type": "markdown",
   "metadata": {},
   "source": [
    "# Download the data\n",
    "\n",
    "* [huggingface datasets quickstart](https://huggingface.co/docs/datasets/quickstart)\n",
    "* [joelito/brazilian_court_decisions](https://huggingface.co/datasets/joelito/brazilian_court_decisions)"
   ]
  },
  {
   "cell_type": "code",
   "execution_count": 2,
   "metadata": {},
   "outputs": [
    {
     "name": "stderr",
     "output_type": "stream",
     "text": [
      "Using custom data configuration joelito--brazilian_court_decisions-cc57c1c8c69e3b04\n",
      "Found cached dataset json (/tf/data/hf_cache/datasets/joelito___json/joelito--brazilian_court_decisions-cc57c1c8c69e3b04/0.0.0/e6070c77f18f01a5ad4551a8b7edfba20b8438b7cad4d94e6ad9378022ce4aab)\n"
     ]
    },
    {
     "data": {
      "application/vnd.jupyter.widget-view+json": {
       "model_id": "d23b8ab32ed2424180d1833516dc8696",
       "version_major": 2,
       "version_minor": 0
      },
      "text/plain": [
       "  0%|          | 0/3 [00:00<?, ?it/s]"
      ]
     },
     "metadata": {},
     "output_type": "display_data"
    }
   ],
   "source": [
    "from datasets import load_dataset\n",
    "\n",
    "dataset = load_dataset(\"joelito/brazilian_court_decisions\")"
   ]
  },
  {
   "cell_type": "markdown",
   "metadata": {},
   "source": [
    "# Inspect the data \n",
    "\n",
    "* [Know your dataset](https://huggingface.co/docs/datasets/access)"
   ]
  },
  {
   "cell_type": "code",
   "execution_count": 10,
   "metadata": {},
   "outputs": [
    {
     "data": {
      "text/html": [
       "<div>\n",
       "<style scoped>\n",
       "    .dataframe tbody tr th:only-of-type {\n",
       "        vertical-align: middle;\n",
       "    }\n",
       "\n",
       "    .dataframe tbody tr th {\n",
       "        vertical-align: top;\n",
       "    }\n",
       "\n",
       "    .dataframe thead th {\n",
       "        text-align: right;\n",
       "    }\n",
       "</style>\n",
       "<table border=\"1\" class=\"dataframe\">\n",
       "  <thead>\n",
       "    <tr style=\"text-align: right;\">\n",
       "      <th></th>\n",
       "      <th>process_number</th>\n",
       "      <th>orgao_julgador</th>\n",
       "      <th>publish_date</th>\n",
       "      <th>judge_relator</th>\n",
       "      <th>ementa_text</th>\n",
       "      <th>decision_description</th>\n",
       "      <th>judgment_text</th>\n",
       "      <th>judgment_label</th>\n",
       "      <th>unanimity_text</th>\n",
       "      <th>unanimity_label</th>\n",
       "    </tr>\n",
       "  </thead>\n",
       "  <tbody>\n",
       "    <tr>\n",
       "      <th>0</th>\n",
       "      <td>0800304-08.2018.8.02.0000</td>\n",
       "      <td>Tribunal Pleno</td>\n",
       "      <td>12/03/2019</td>\n",
       "      <td>Des. João Luiz Azevedo Lessa</td>\n",
       "      <td>DIREITO PENAL E PROCESSUAL PENAL. REVISÃO CRIM...</td>\n",
       "      <td>DIREITO PENAL E PROCESSUAL PENAL. REVISÃO CRIM...</td>\n",
       "      <td>REVISÃO CRIMINAL JULGADA PARCIALMENTE PROCEDENTE</td>\n",
       "      <td>partial</td>\n",
       "      <td>DECISÃO UNÂNIME</td>\n",
       "      <td>unanimity</td>\n",
       "    </tr>\n",
       "    <tr>\n",
       "      <th>1</th>\n",
       "      <td>0700071-82.2015.8.02.0040</td>\n",
       "      <td>3ª Câmara Cível</td>\n",
       "      <td>09/02/2019</td>\n",
       "      <td>Des. Celyrio Adamastor Tenório Accioly</td>\n",
       "      <td>APELAÇÃO CÍVEL. MANDADO DE SEGURANÇA. SERVIDOR...</td>\n",
       "      <td>APELAÇÃO CÍVEL. MANDADO DE SEGURANÇA. SERVIDOR...</td>\n",
       "      <td>RECURSO CONHECIDO E NÃO PROVIDO</td>\n",
       "      <td>no</td>\n",
       "      <td>-2</td>\n",
       "      <td>not_determined</td>\n",
       "    </tr>\n",
       "    <tr>\n",
       "      <th>2</th>\n",
       "      <td>0801729-70.2018.8.02.0000</td>\n",
       "      <td>2ª Câmara Cível</td>\n",
       "      <td>25/02/2019</td>\n",
       "      <td>Des. Pedro Augusto Mendonça de Araújo</td>\n",
       "      <td>PROCESSUAL CIVIL. EMBARGOS DE DECLARAÇÃO EM AG...</td>\n",
       "      <td>PROCESSUAL CIVIL. EMBARGOS DE DECLARAÇÃO EM AG...</td>\n",
       "      <td>RECURSO CONHECIDO E REJEITADO</td>\n",
       "      <td>no</td>\n",
       "      <td>DECISÃO UNÂNIME</td>\n",
       "      <td>unanimity</td>\n",
       "    </tr>\n",
       "    <tr>\n",
       "      <th>3</th>\n",
       "      <td>0804894-62.2017.8.02.0000</td>\n",
       "      <td>2ª Câmara Cível</td>\n",
       "      <td>19/03/2019</td>\n",
       "      <td>Des. Klever Rêgo Loureiro</td>\n",
       "      <td>AGRAVO DE INSTRUMENTO. AUXÍLIO DOENÇA. SUSPENS...</td>\n",
       "      <td>AGRAVO DE INSTRUMENTO. AUXÍLIO DOENÇA. SUSPENS...</td>\n",
       "      <td>RECURSO CONHECIDO E PROVIDO</td>\n",
       "      <td>yes</td>\n",
       "      <td>DECISÃO UNÂNIME</td>\n",
       "      <td>unanimity</td>\n",
       "    </tr>\n",
       "    <tr>\n",
       "      <th>4</th>\n",
       "      <td>0702761-41.2014.8.02.0001</td>\n",
       "      <td>1ª Câmara Cível</td>\n",
       "      <td>13/02/2019</td>\n",
       "      <td>Des. Fábio José Bittencourt Araújo</td>\n",
       "      <td>DIREITO DO CONSUMIDOR. APELAÇÃO INTERPOSTA EM ...</td>\n",
       "      <td>DIREITO DO CONSUMIDOR. APELAÇÃO INTERPOSTA EM ...</td>\n",
       "      <td>APELO CONHECIDO E PROVIDO EM PARTE</td>\n",
       "      <td>partial</td>\n",
       "      <td>UNANIMIDADE</td>\n",
       "      <td>unanimity</td>\n",
       "    </tr>\n",
       "  </tbody>\n",
       "</table>\n",
       "</div>"
      ],
      "text/plain": [
       "              process_number   orgao_julgador publish_date  \\\n",
       "0  0800304-08.2018.8.02.0000   Tribunal Pleno   12/03/2019   \n",
       "1  0700071-82.2015.8.02.0040  3ª Câmara Cível   09/02/2019   \n",
       "2  0801729-70.2018.8.02.0000  2ª Câmara Cível   25/02/2019   \n",
       "3  0804894-62.2017.8.02.0000  2ª Câmara Cível   19/03/2019   \n",
       "4  0702761-41.2014.8.02.0001  1ª Câmara Cível   13/02/2019   \n",
       "\n",
       "                            judge_relator  \\\n",
       "0            Des. João Luiz Azevedo Lessa   \n",
       "1  Des. Celyrio Adamastor Tenório Accioly   \n",
       "2   Des. Pedro Augusto Mendonça de Araújo   \n",
       "3               Des. Klever Rêgo Loureiro   \n",
       "4      Des. Fábio José Bittencourt Araújo   \n",
       "\n",
       "                                         ementa_text  \\\n",
       "0  DIREITO PENAL E PROCESSUAL PENAL. REVISÃO CRIM...   \n",
       "1  APELAÇÃO CÍVEL. MANDADO DE SEGURANÇA. SERVIDOR...   \n",
       "2  PROCESSUAL CIVIL. EMBARGOS DE DECLARAÇÃO EM AG...   \n",
       "3  AGRAVO DE INSTRUMENTO. AUXÍLIO DOENÇA. SUSPENS...   \n",
       "4  DIREITO DO CONSUMIDOR. APELAÇÃO INTERPOSTA EM ...   \n",
       "\n",
       "                                decision_description  \\\n",
       "0  DIREITO PENAL E PROCESSUAL PENAL. REVISÃO CRIM...   \n",
       "1  APELAÇÃO CÍVEL. MANDADO DE SEGURANÇA. SERVIDOR...   \n",
       "2  PROCESSUAL CIVIL. EMBARGOS DE DECLARAÇÃO EM AG...   \n",
       "3  AGRAVO DE INSTRUMENTO. AUXÍLIO DOENÇA. SUSPENS...   \n",
       "4  DIREITO DO CONSUMIDOR. APELAÇÃO INTERPOSTA EM ...   \n",
       "\n",
       "                                       judgment_text judgment_label  \\\n",
       "0   REVISÃO CRIMINAL JULGADA PARCIALMENTE PROCEDENTE        partial   \n",
       "1                    RECURSO CONHECIDO E NÃO PROVIDO             no   \n",
       "2                      RECURSO CONHECIDO E REJEITADO             no   \n",
       "3                        RECURSO CONHECIDO E PROVIDO            yes   \n",
       "4                 APELO CONHECIDO E PROVIDO EM PARTE        partial   \n",
       "\n",
       "     unanimity_text unanimity_label  \n",
       "0   DECISÃO UNÂNIME       unanimity  \n",
       "1                -2  not_determined  \n",
       "2   DECISÃO UNÂNIME       unanimity  \n",
       "3   DECISÃO UNÂNIME       unanimity  \n",
       "4       UNANIMIDADE       unanimity  "
      ]
     },
     "execution_count": 10,
     "metadata": {},
     "output_type": "execute_result"
    }
   ],
   "source": [
    "train_df = dataset['train'].to_pandas()\n",
    "train_df.head()"
   ]
  },
  {
   "cell_type": "code",
   "execution_count": 12,
   "metadata": {},
   "outputs": [
    {
     "data": {
      "text/html": [
       "<div>\n",
       "<style scoped>\n",
       "    .dataframe tbody tr th:only-of-type {\n",
       "        vertical-align: middle;\n",
       "    }\n",
       "\n",
       "    .dataframe tbody tr th {\n",
       "        vertical-align: top;\n",
       "    }\n",
       "\n",
       "    .dataframe thead th {\n",
       "        text-align: right;\n",
       "    }\n",
       "</style>\n",
       "<table border=\"1\" class=\"dataframe\">\n",
       "  <thead>\n",
       "    <tr style=\"text-align: right;\">\n",
       "      <th></th>\n",
       "      <th>process_number</th>\n",
       "      <th>orgao_julgador</th>\n",
       "      <th>publish_date</th>\n",
       "      <th>judge_relator</th>\n",
       "      <th>ementa_text</th>\n",
       "      <th>decision_description</th>\n",
       "      <th>judgment_text</th>\n",
       "      <th>judgment_label</th>\n",
       "      <th>unanimity_text</th>\n",
       "      <th>unanimity_label</th>\n",
       "    </tr>\n",
       "  </thead>\n",
       "  <tbody>\n",
       "    <tr>\n",
       "      <th>0</th>\n",
       "      <td>0727978-86.2014.8.02.0001</td>\n",
       "      <td>1ª Câmara Cível</td>\n",
       "      <td>06/02/2019</td>\n",
       "      <td>Des. Fábio José Bittencourt Araújo</td>\n",
       "      <td>DIREITO ADMINISTRATIVO. APELAÇÃO CÍVEL. SENTEN...</td>\n",
       "      <td>DIREITO ADMINISTRATIVO. APELAÇÃO CÍVEL. SENTEN...</td>\n",
       "      <td>RECURSO CONHECIDO E PARCIALMENTE PROVIDO</td>\n",
       "      <td>partial</td>\n",
       "      <td>UNANIMIDADE</td>\n",
       "      <td>unanimity</td>\n",
       "    </tr>\n",
       "    <tr>\n",
       "      <th>1</th>\n",
       "      <td>0701144-98.2016.8.02.0058</td>\n",
       "      <td>3ª Câmara Cível</td>\n",
       "      <td>17/12/2018</td>\n",
       "      <td>Des. Alcides Gusmão da Silva</td>\n",
       "      <td>APELAÇÕES CÍVEIS. AÇÃO ORDINÁRIA COM PEDIDO DE...</td>\n",
       "      <td>APELAÇÕES CÍVEIS. AÇÃO ORDINÁRIA COM PEDIDO DE...</td>\n",
       "      <td>RECURSO CONHECIDO E PROVIDO</td>\n",
       "      <td>yes</td>\n",
       "      <td>-2</td>\n",
       "      <td>not_determined</td>\n",
       "    </tr>\n",
       "    <tr>\n",
       "      <th>2</th>\n",
       "      <td>0706293-81.2018.8.02.0001</td>\n",
       "      <td>Câmara Criminal</td>\n",
       "      <td>07/03/2019</td>\n",
       "      <td>Des. Sebastião Costa Filho</td>\n",
       "      <td>PENAL. PROCESSO PENAL. APELAÇÃO CRIMINAL. RECE...</td>\n",
       "      <td>PENAL. PROCESSO PENAL. APELAÇÃO CRIMINAL. RECE...</td>\n",
       "      <td>III - Apelação conhecida e improvida</td>\n",
       "      <td>no</td>\n",
       "      <td>-2</td>\n",
       "      <td>not_determined</td>\n",
       "    </tr>\n",
       "    <tr>\n",
       "      <th>3</th>\n",
       "      <td>0806267-94.2018.8.02.0000</td>\n",
       "      <td>2ª Câmara Cível</td>\n",
       "      <td>20/03/2019</td>\n",
       "      <td>Desa. Elisabeth Carvalho Nascimento</td>\n",
       "      <td>AGRAVO DE INSTRUMENTO. AÇÃO DE BUSCA E APREENS...</td>\n",
       "      <td>AGRAVO DE INSTRUMENTO. AÇÃO DE BUSCA E APREENS...</td>\n",
       "      <td>RECURSO CONHECIDO E NÃO PROVIDO</td>\n",
       "      <td>no</td>\n",
       "      <td>-2</td>\n",
       "      <td>not_determined</td>\n",
       "    </tr>\n",
       "    <tr>\n",
       "      <th>4</th>\n",
       "      <td>0700303-14.2017.8.02.0044</td>\n",
       "      <td>2ª Câmara Cível</td>\n",
       "      <td>29/01/2019</td>\n",
       "      <td>Desa. Elisabeth Carvalho Nascimento</td>\n",
       "      <td>APELAÇÃO CÍVEL. MANDADO DE SEGURANÇA. REINTEGR...</td>\n",
       "      <td>APELAÇÃO CÍVEL. MANDADO DE SEGURANÇA. REINTEGR...</td>\n",
       "      <td>RECURSO CONHECIDO E NÃO PROVIDO</td>\n",
       "      <td>no</td>\n",
       "      <td>-2</td>\n",
       "      <td>not_determined</td>\n",
       "    </tr>\n",
       "  </tbody>\n",
       "</table>\n",
       "</div>"
      ],
      "text/plain": [
       "              process_number   orgao_julgador publish_date  \\\n",
       "0  0727978-86.2014.8.02.0001  1ª Câmara Cível   06/02/2019   \n",
       "1  0701144-98.2016.8.02.0058  3ª Câmara Cível   17/12/2018   \n",
       "2  0706293-81.2018.8.02.0001  Câmara Criminal   07/03/2019   \n",
       "3  0806267-94.2018.8.02.0000  2ª Câmara Cível   20/03/2019   \n",
       "4  0700303-14.2017.8.02.0044  2ª Câmara Cível   29/01/2019   \n",
       "\n",
       "                         judge_relator  \\\n",
       "0   Des. Fábio José Bittencourt Araújo   \n",
       "1         Des. Alcides Gusmão da Silva   \n",
       "2           Des. Sebastião Costa Filho   \n",
       "3  Desa. Elisabeth Carvalho Nascimento   \n",
       "4  Desa. Elisabeth Carvalho Nascimento   \n",
       "\n",
       "                                         ementa_text  \\\n",
       "0  DIREITO ADMINISTRATIVO. APELAÇÃO CÍVEL. SENTEN...   \n",
       "1  APELAÇÕES CÍVEIS. AÇÃO ORDINÁRIA COM PEDIDO DE...   \n",
       "2  PENAL. PROCESSO PENAL. APELAÇÃO CRIMINAL. RECE...   \n",
       "3  AGRAVO DE INSTRUMENTO. AÇÃO DE BUSCA E APREENS...   \n",
       "4  APELAÇÃO CÍVEL. MANDADO DE SEGURANÇA. REINTEGR...   \n",
       "\n",
       "                                decision_description  \\\n",
       "0  DIREITO ADMINISTRATIVO. APELAÇÃO CÍVEL. SENTEN...   \n",
       "1  APELAÇÕES CÍVEIS. AÇÃO ORDINÁRIA COM PEDIDO DE...   \n",
       "2  PENAL. PROCESSO PENAL. APELAÇÃO CRIMINAL. RECE...   \n",
       "3  AGRAVO DE INSTRUMENTO. AÇÃO DE BUSCA E APREENS...   \n",
       "4  APELAÇÃO CÍVEL. MANDADO DE SEGURANÇA. REINTEGR...   \n",
       "\n",
       "                               judgment_text judgment_label unanimity_text  \\\n",
       "0   RECURSO CONHECIDO E PARCIALMENTE PROVIDO        partial    UNANIMIDADE   \n",
       "1                RECURSO CONHECIDO E PROVIDO            yes             -2   \n",
       "2       III - Apelação conhecida e improvida             no             -2   \n",
       "3            RECURSO CONHECIDO E NÃO PROVIDO             no             -2   \n",
       "4            RECURSO CONHECIDO E NÃO PROVIDO             no             -2   \n",
       "\n",
       "  unanimity_label  \n",
       "0       unanimity  \n",
       "1  not_determined  \n",
       "2  not_determined  \n",
       "3  not_determined  \n",
       "4  not_determined  "
      ]
     },
     "execution_count": 12,
     "metadata": {},
     "output_type": "execute_result"
    }
   ],
   "source": [
    "test_df = dataset['test'].to_pandas()\n",
    "test_df.head()"
   ]
  },
  {
   "cell_type": "markdown",
   "metadata": {},
   "source": [
    "# Setup a pandas dataframe, tokenize etc\n",
    "* [Load a pandas DataFrame](https://www.tensorflow.org/tutorials/load_data/pandas_dataframe)\n",
    "* [Load text](https://www.tensorflow.org/tutorials/load_data/text)"
   ]
  },
  {
   "cell_type": "code",
   "execution_count": null,
   "metadata": {},
   "outputs": [],
   "source": [
    "# TODO, add code here :)"
   ]
  },
  {
   "cell_type": "markdown",
   "metadata": {},
   "source": [
    "# Load data and train model\n",
    "* [tf text in 5 mins](https://codesearchonline.com/natural-language-processing-with-tensorflow-cheat-sheet/)"
   ]
  },
  {
   "cell_type": "code",
   "execution_count": null,
   "metadata": {},
   "outputs": [],
   "source": [
    "# TODO add code here"
   ]
  },
  {
   "cell_type": "markdown",
   "metadata": {},
   "source": [
    "# Save model and test prediction"
   ]
  },
  {
   "cell_type": "code",
   "execution_count": null,
   "metadata": {},
   "outputs": [],
   "source": [
    "# TODO add code here"
   ]
  }
 ],
 "metadata": {
  "kernelspec": {
   "display_name": "Python 3",
   "language": "python",
   "name": "python3"
  },
  "language_info": {
   "codemirror_mode": {
    "name": "ipython",
    "version": 3
   },
   "file_extension": ".py",
   "mimetype": "text/x-python",
   "name": "python",
   "nbconvert_exporter": "python",
   "pygments_lexer": "ipython3",
   "version": "3.8.10"
  }
 },
 "nbformat": 4,
 "nbformat_minor": 2
}
