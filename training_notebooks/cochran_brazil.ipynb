{
 "cells": [
  {
   "cell_type": "markdown",
   "metadata": {},
   "source": [
    "# Install dependencies\n",
    "\n",
    "* IMPORTANT: you only need to run this one time, when you first spin up your docker notebook server\n",
    "* IMPORTANT: you need to restart the kernel after you run this\n",
    "* TODO: these deps should be eventually put into a dockerfile\n",
    "\n",
    "* INFO: read more about [what the hell is pip](https://pip.pypa.io/en/stable/) and [why installing dependencies via pip in a notebook is a stupid idea, but OK since we are prototyping here](https://towardsdev.com/pip-install-from-jupyter-notebook-485c218b50b)"
   ]
  },
  {
   "cell_type": "code",
   "execution_count": null,
   "metadata": {},
   "outputs": [],
   "source": [
    "!pip install pandas\n",
    "!pip install datasets"
   ]
  },
  {
   "cell_type": "markdown",
   "metadata": {},
   "source": [
    "# Import libraries\n",
    "\n",
    "also setup the data directory"
   ]
  },
  {
   "cell_type": "code",
   "execution_count": 10,
   "metadata": {},
   "outputs": [],
   "source": [
    "import os\n",
    "import re\n",
    "import glob\n",
    "import shutil\n",
    "import string\n",
    "import pathlib\n",
    "\n",
    "# set the data directory\n",
    "data_dir = os.path.abspath(os.path.join(os.getcwd(),'..','data'))\n",
    "\n",
    "#give matplotlib a folder to save its configs\n",
    "os.environ['MPLCONFIGDIR'] = os.path.join(data_dir,'plt_configs')\n",
    "import matplotlib.pyplot as plt\n",
    "\n",
    "#give huggingface a folder to save its stuff in too\n",
    "#you only need this if you are using a huggingface dataset\n",
    "os.environ['HF_HOME'] = os.path.join(data_dir,'hf_cache')\n",
    "import datasets\n",
    "\n",
    "import pandas as pd\n",
    "import numpy as np\n",
    "\n",
    "import tensorflow as tf\n",
    "from tensorflow.keras import layers\n",
    "from tensorflow.keras import losses\n",
    "from tensorflow.keras.layers import TextVectorization"
   ]
  },
  {
   "cell_type": "code",
   "execution_count": 22,
   "metadata": {},
   "outputs": [],
   "source": [
    "# setup directories, create them if they do not exist within data folder\n",
    "\n",
    "# We want our data directory to contain two folders, one for each class we are predicting (\"headshots\" aka normalish photos of normalish people (I guess) or \"mugshots\")\n",
    "\n",
    "filings_dir = os.path.join(data_dir,'filings')\n",
    "if not os.path.exists(filings_dir):\n",
    "    os.makedirs(filings_dir)\n",
    "    \n",
    "yes_dir = os.path.join(data_dir,'filings','yes')\n",
    "if not os.path.exists(yes_dir):\n",
    "    os.makedirs(yes_dir)\n",
    "    \n",
    "no_dir = os.path.join(data_dir,'filings','no')\n",
    "if not os.path.exists(no_dir):\n",
    "    os.makedirs(no_dir)"
   ]
  },
  {
   "cell_type": "markdown",
   "metadata": {},
   "source": [
    "# Download the data\n",
    "\n",
    "* [huggingface datasets quickstart](https://huggingface.co/docs/datasets/quickstart)\n",
    "* [joelito/brazilian_court_decisions](https://huggingface.co/datasets/joelito/brazilian_court_decisions)"
   ]
  },
  {
   "cell_type": "code",
   "execution_count": 2,
   "metadata": {},
   "outputs": [
    {
     "name": "stderr",
     "output_type": "stream",
     "text": [
      "Using custom data configuration joelito--brazilian_court_decisions-cc57c1c8c69e3b04\n",
      "Found cached dataset json (/tf/data/hf_cache/datasets/joelito___json/joelito--brazilian_court_decisions-cc57c1c8c69e3b04/0.0.0/e6070c77f18f01a5ad4551a8b7edfba20b8438b7cad4d94e6ad9378022ce4aab)\n"
     ]
    },
    {
     "data": {
      "application/vnd.jupyter.widget-view+json": {
       "model_id": "63011f2121684910827320d8a8b1685d",
       "version_major": 2,
       "version_minor": 0
      },
      "text/plain": [
       "  0%|          | 0/3 [00:00<?, ?it/s]"
      ]
     },
     "metadata": {},
     "output_type": "display_data"
    }
   ],
   "source": [
    "dataset = datasets.load_dataset(\"joelito/brazilian_court_decisions\")"
   ]
  },
  {
   "cell_type": "markdown",
   "metadata": {},
   "source": [
    "# Inspect the data \n",
    "\n",
    "* [Know your dataset](https://huggingface.co/docs/datasets/access)"
   ]
  },
  {
   "cell_type": "code",
   "execution_count": 13,
   "metadata": {},
   "outputs": [
    {
     "data": {
      "text/html": [
       "<div>\n",
       "<style scoped>\n",
       "    .dataframe tbody tr th:only-of-type {\n",
       "        vertical-align: middle;\n",
       "    }\n",
       "\n",
       "    .dataframe tbody tr th {\n",
       "        vertical-align: top;\n",
       "    }\n",
       "\n",
       "    .dataframe thead th {\n",
       "        text-align: right;\n",
       "    }\n",
       "</style>\n",
       "<table border=\"1\" class=\"dataframe\">\n",
       "  <thead>\n",
       "    <tr style=\"text-align: right;\">\n",
       "      <th></th>\n",
       "      <th>process_number</th>\n",
       "      <th>orgao_julgador</th>\n",
       "      <th>publish_date</th>\n",
       "      <th>judge_relator</th>\n",
       "      <th>ementa_text</th>\n",
       "      <th>decision_description</th>\n",
       "      <th>judgment_text</th>\n",
       "      <th>judgment_label</th>\n",
       "      <th>unanimity_text</th>\n",
       "      <th>unanimity_label</th>\n",
       "    </tr>\n",
       "  </thead>\n",
       "  <tbody>\n",
       "    <tr>\n",
       "      <th>0</th>\n",
       "      <td>0800304-08.2018.8.02.0000</td>\n",
       "      <td>Tribunal Pleno</td>\n",
       "      <td>12/03/2019</td>\n",
       "      <td>Des. João Luiz Azevedo Lessa</td>\n",
       "      <td>DIREITO PENAL E PROCESSUAL PENAL. REVISÃO CRIM...</td>\n",
       "      <td>DIREITO PENAL E PROCESSUAL PENAL. REVISÃO CRIM...</td>\n",
       "      <td>REVISÃO CRIMINAL JULGADA PARCIALMENTE PROCEDENTE</td>\n",
       "      <td>partial</td>\n",
       "      <td>DECISÃO UNÂNIME</td>\n",
       "      <td>unanimity</td>\n",
       "    </tr>\n",
       "    <tr>\n",
       "      <th>1</th>\n",
       "      <td>0700071-82.2015.8.02.0040</td>\n",
       "      <td>3ª Câmara Cível</td>\n",
       "      <td>09/02/2019</td>\n",
       "      <td>Des. Celyrio Adamastor Tenório Accioly</td>\n",
       "      <td>APELAÇÃO CÍVEL. MANDADO DE SEGURANÇA. SERVIDOR...</td>\n",
       "      <td>APELAÇÃO CÍVEL. MANDADO DE SEGURANÇA. SERVIDOR...</td>\n",
       "      <td>RECURSO CONHECIDO E NÃO PROVIDO</td>\n",
       "      <td>no</td>\n",
       "      <td>-2</td>\n",
       "      <td>not_determined</td>\n",
       "    </tr>\n",
       "    <tr>\n",
       "      <th>2</th>\n",
       "      <td>0801729-70.2018.8.02.0000</td>\n",
       "      <td>2ª Câmara Cível</td>\n",
       "      <td>25/02/2019</td>\n",
       "      <td>Des. Pedro Augusto Mendonça de Araújo</td>\n",
       "      <td>PROCESSUAL CIVIL. EMBARGOS DE DECLARAÇÃO EM AG...</td>\n",
       "      <td>PROCESSUAL CIVIL. EMBARGOS DE DECLARAÇÃO EM AG...</td>\n",
       "      <td>RECURSO CONHECIDO E REJEITADO</td>\n",
       "      <td>no</td>\n",
       "      <td>DECISÃO UNÂNIME</td>\n",
       "      <td>unanimity</td>\n",
       "    </tr>\n",
       "    <tr>\n",
       "      <th>3</th>\n",
       "      <td>0804894-62.2017.8.02.0000</td>\n",
       "      <td>2ª Câmara Cível</td>\n",
       "      <td>19/03/2019</td>\n",
       "      <td>Des. Klever Rêgo Loureiro</td>\n",
       "      <td>AGRAVO DE INSTRUMENTO. AUXÍLIO DOENÇA. SUSPENS...</td>\n",
       "      <td>AGRAVO DE INSTRUMENTO. AUXÍLIO DOENÇA. SUSPENS...</td>\n",
       "      <td>RECURSO CONHECIDO E PROVIDO</td>\n",
       "      <td>yes</td>\n",
       "      <td>DECISÃO UNÂNIME</td>\n",
       "      <td>unanimity</td>\n",
       "    </tr>\n",
       "    <tr>\n",
       "      <th>4</th>\n",
       "      <td>0702761-41.2014.8.02.0001</td>\n",
       "      <td>1ª Câmara Cível</td>\n",
       "      <td>13/02/2019</td>\n",
       "      <td>Des. Fábio José Bittencourt Araújo</td>\n",
       "      <td>DIREITO DO CONSUMIDOR. APELAÇÃO INTERPOSTA EM ...</td>\n",
       "      <td>DIREITO DO CONSUMIDOR. APELAÇÃO INTERPOSTA EM ...</td>\n",
       "      <td>APELO CONHECIDO E PROVIDO EM PARTE</td>\n",
       "      <td>partial</td>\n",
       "      <td>UNANIMIDADE</td>\n",
       "      <td>unanimity</td>\n",
       "    </tr>\n",
       "  </tbody>\n",
       "</table>\n",
       "</div>"
      ],
      "text/plain": [
       "              process_number   orgao_julgador publish_date  \\\n",
       "0  0800304-08.2018.8.02.0000   Tribunal Pleno   12/03/2019   \n",
       "1  0700071-82.2015.8.02.0040  3ª Câmara Cível   09/02/2019   \n",
       "2  0801729-70.2018.8.02.0000  2ª Câmara Cível   25/02/2019   \n",
       "3  0804894-62.2017.8.02.0000  2ª Câmara Cível   19/03/2019   \n",
       "4  0702761-41.2014.8.02.0001  1ª Câmara Cível   13/02/2019   \n",
       "\n",
       "                            judge_relator  \\\n",
       "0            Des. João Luiz Azevedo Lessa   \n",
       "1  Des. Celyrio Adamastor Tenório Accioly   \n",
       "2   Des. Pedro Augusto Mendonça de Araújo   \n",
       "3               Des. Klever Rêgo Loureiro   \n",
       "4      Des. Fábio José Bittencourt Araújo   \n",
       "\n",
       "                                         ementa_text  \\\n",
       "0  DIREITO PENAL E PROCESSUAL PENAL. REVISÃO CRIM...   \n",
       "1  APELAÇÃO CÍVEL. MANDADO DE SEGURANÇA. SERVIDOR...   \n",
       "2  PROCESSUAL CIVIL. EMBARGOS DE DECLARAÇÃO EM AG...   \n",
       "3  AGRAVO DE INSTRUMENTO. AUXÍLIO DOENÇA. SUSPENS...   \n",
       "4  DIREITO DO CONSUMIDOR. APELAÇÃO INTERPOSTA EM ...   \n",
       "\n",
       "                                decision_description  \\\n",
       "0  DIREITO PENAL E PROCESSUAL PENAL. REVISÃO CRIM...   \n",
       "1  APELAÇÃO CÍVEL. MANDADO DE SEGURANÇA. SERVIDOR...   \n",
       "2  PROCESSUAL CIVIL. EMBARGOS DE DECLARAÇÃO EM AG...   \n",
       "3  AGRAVO DE INSTRUMENTO. AUXÍLIO DOENÇA. SUSPENS...   \n",
       "4  DIREITO DO CONSUMIDOR. APELAÇÃO INTERPOSTA EM ...   \n",
       "\n",
       "                                       judgment_text judgment_label  \\\n",
       "0   REVISÃO CRIMINAL JULGADA PARCIALMENTE PROCEDENTE        partial   \n",
       "1                    RECURSO CONHECIDO E NÃO PROVIDO             no   \n",
       "2                      RECURSO CONHECIDO E REJEITADO             no   \n",
       "3                        RECURSO CONHECIDO E PROVIDO            yes   \n",
       "4                 APELO CONHECIDO E PROVIDO EM PARTE        partial   \n",
       "\n",
       "     unanimity_text unanimity_label  \n",
       "0   DECISÃO UNÂNIME       unanimity  \n",
       "1                -2  not_determined  \n",
       "2   DECISÃO UNÂNIME       unanimity  \n",
       "3   DECISÃO UNÂNIME       unanimity  \n",
       "4       UNANIMIDADE       unanimity  "
      ]
     },
     "execution_count": 13,
     "metadata": {},
     "output_type": "execute_result"
    }
   ],
   "source": [
    "train_df = dataset['train'].to_pandas()\n",
    "test_df = dataset['test'].to_pandas()\n",
    "\n",
    "complete_dataset = pd.concat([train_df,test_df])\n",
    "complete_dataset.head()"
   ]
  },
  {
   "cell_type": "code",
   "execution_count": 29,
   "metadata": {},
   "outputs": [],
   "source": [
    "yes_df = complete_dataset[complete_dataset['judgment_label'] == 'yes']\n",
    "no_df = complete_dataset[complete_dataset['judgment_label'] == 'no']\n",
    "\n",
    "# TODO what about partials?"
   ]
  },
  {
   "cell_type": "markdown",
   "metadata": {},
   "source": [
    "write the text from the dataframe into a folder/file structure where each folder contains text from the \"yes\" votes\n"
   ]
  },
  {
   "cell_type": "code",
   "execution_count": 24,
   "metadata": {},
   "outputs": [],
   "source": [
    "i=0\n",
    "for text in yes_df['ementa_text']:\n",
    "    with open(os.path.join(yes_dir,str(i)+'.txt'), 'w') as f:\n",
    "        f.write(text)\n",
    "    i+=1"
   ]
  },
  {
   "cell_type": "code",
   "execution_count": 25,
   "metadata": {},
   "outputs": [],
   "source": [
    "i=0\n",
    "for text in no_df['ementa_text']:\n",
    "    with open(os.path.join(no_dir,str(i)+'.txt'), 'w') as f:\n",
    "        f.write(text)\n",
    "    i+=1"
   ]
  },
  {
   "cell_type": "markdown",
   "metadata": {},
   "source": [
    "# Load the dataset for training\n",
    "* [Load text](https://www.tensorflow.org/tutorials/load_data/text)"
   ]
  },
  {
   "cell_type": "code",
   "execution_count": 28,
   "metadata": {},
   "outputs": [
    {
     "name": "stdout",
     "output_type": "stream",
     "text": [
      "Found 2869 files belonging to 2 classes.\n",
      "Using 2296 files for training.\n"
     ]
    }
   ],
   "source": [
    "batch_size = 32\n",
    "seed = 42\n",
    "\n",
    "raw_train_ds = tf.keras.utils.text_dataset_from_directory(\n",
    "    pathlib.Path(filings_dir),\n",
    "    batch_size=batch_size,\n",
    "    validation_split=0.2,\n",
    "    subset='training',\n",
    "    seed=seed)"
   ]
  },
  {
   "cell_type": "code",
   "execution_count": 31,
   "metadata": {},
   "outputs": [
    {
     "name": "stdout",
     "output_type": "stream",
     "text": [
      "Filing:  b'AGRAVO DE INSTRUMENTO. A\\xc3\\x87\\xc3\\x83O DE COBRAN\\xc3\\x87A DE HONOR\\xc3\\x81RIOS ADVOCAT\\xc3\\x8dCIOS CONTRATUAIS. VERBA FUNDEB (ANTIGO FUNDEF). VINCULA\\xc3\\x87\\xc3\\x83O CONSTITUCIONAL. IMPRESCIND\\xc3\\x8dVEL A SUA APLICA\\xc3\\x87\\xc3\\x83O TOTAL PARA O DESENVOLVIMENTO E MANUTEN\\xc3\\x87\\xc3\\x83O DO ENSINO, EFETIVANDO O DIREITO CONSTITUCIONAL \\xc3\\x80 EDUCA\\xc3\\x87\\xc3\\x83O DE QUALIDADE. TESE FIXADA NO SUPERIOR TRIBUNAL DE JUSTI\\xc3\\x87A PELA IMPOSSIBILIDADE DA RETEN\\xc3\\x87\\xc3\\x83O. DEMAIS QUEST\\xc3\\x95ES. NECESSIDADE DE DILA\\xc3\\x87\\xc3\\x83O PROBAT\\xc3\\x93RIA. RECURSO CONHECIDO E IMPROVIDO. DECIS\\xc3\\x83O UN\\xc3\\x82NIME.'\n",
      "Label: 0\n",
      "Filing:  b'AGRAVO DE INSTRUMENTO. BUSCA E APREENS\\xc3\\x83O. DECIS\\xc3\\x83O QUE DENEGOU A ORDEM. PREENCHIMENTO DOS REQUISITOS PREVISTOS NO DECRETO-LEI N\\xc2\\xba 911/69. RECURSO CONHECIDO E PROVIDO.'\n",
      "Label: 1\n",
      "Filing:  b'AGRAVO DE INSTRUMENTO. A\\xc3\\x87\\xc3\\x83O DE BUSCA E APREENS\\xc3\\x83O. ALEGA\\xc3\\x87\\xc3\\x83O DE OFENSA AOS PRINC\\xc3\\x8dPIOS DA RAZOABILIDADE E DA PROPORCIONALIDADE NA FIXA\\xc3\\x87\\xc3\\x83O DA MULTA COMINAT\\xc3\\x93RIA. VALOR DA MULTA FIXADA PELO MAGISTRADO DEVE SER SUFICIENTE PARA FOR\\xc3\\x87AR O CUMPRIMENTO DA DECIS\\xc3\\x83O E GARANTIR A TUTELA ANTECIPADA, MAS SEMPRE RESPEITANDO OS CRIT\\xc3\\x89RIOS DA RAZOABILIDADE E DA PROPORCIONALIDADE, SOB PENA DE CONFIGURAR ENRIQUECIMENTO IL\\xc3\\x8dCITO. ART. 536, \\xc2\\xa7 1\\xc2\\xba DO CPC. MULTA APLICADA PELO JUIZ A QUO N\\xc3\\x83O REPRESENTA VALOR DESPROPORCIONAL E IRRAZO\\xc3\\x81VEL, N\\xc3\\x83O HAVENDO EXORBIT\\xc3\\x82NCIA OU POSSIBILIDADE DE ENRIQUECIMENTO SEM CAUSA. N\\xc3\\x83O VERIFICA\\xc3\\x87\\xc3\\x83O DA PRESEN\\xc3\\x87A DO PERICULUM IN MORA E FUMUS BONI IURIS. MULTA MANTIDA. RECURSO CONHECIDO E N\\xc3\\x83O PROVIDO.'\n",
      "Label: 0\n",
      "Filing:  b'APELA\\xc3\\x87\\xc3\\x83O C\\xc3\\x8dVEL. DIREITO PROCESSUAL CIVIL E TRIBUT\\xc3\\x81RIO. EXECU\\xc3\\x87\\xc3\\x83O FISCAL. MAJORA\\xc3\\x87\\xc3\\x83O DOS HONOR\\xc3\\x81RIOS ADVOCAT\\xc3\\x8dCIOS. ART. 20, \\xc2\\xa7 3, a, b, c, E \\xc2\\xa7 4 DO CPC. RECURSO CONHECIDO E PROVIDO. DECIS\\xc3\\x83O UN\\xc3\\x82NIME.'\n",
      "Label: 1\n",
      "Filing:  b'AGRAVO DE INSTRUMENTO. A\\xc3\\x87\\xc3\\x83O DE RECUPERA\\xc3\\x87\\xc3\\x83O JUDICIAL. LEGITIMIDADE E INTERESSE DAS AGRAVANTES VERIFICADOS. DOCUMENTOS QUE COMPROVAM A EXIST\\xc3\\x8aNCIA DE A\\xc3\\x87\\xc3\\x95ES JUDICIAIS EM TR\\xc3\\x82MITE NA JUSTI\\xc3\\x87A ESTADUAL DO PAR\\xc3\\x81 ENVOLVENDO CONTRATOS FIRMADOS ENTRE AS PARTES. INDICIOS APTOS A REVELAR A CONDI\\xc3\\x87\\xc3\\x83O DE CREDORAS QUE, EMBORA PENDENTE NA ORIGEM O PEDIDO DE INTERVEN\\xc3\\x87\\xc3\\x83O DE TERCEIRO, N\\xc3\\x83O OBSTA A INTERPOSI\\xc3\\x87\\xc3\\x83O DESTE RECURSO PELA INCID\\xc3\\x8aNCIA DO ART. 996 DO CPC. DECIS\\xc3\\x83O AGRAVADA QUE ENTENDEU POR PREENCHIDOS OS REQUISITOS LEGAIS PARA DEFERIMENTO DO PROCESSAMENTO DA RECUPERA\\xc3\\x87\\xc3\\x83O E N\\xc3\\x83O MERECE REPARO NESSE INSTANTE PROCESSUAL. M\\xc3\\x81-F\\xc3\\x89 ALEGADA PELA PARTE AGRAVADA. N\\xc3\\x83O CONSTATA\\xc3\\x87\\xc3\\x83O. MERO EXERC\\xc3\\x8dCIO DE ATOS DE DEFESA. RECURSO CONHECIDO E N\\xc3\\x83O PROVIDO.'\n",
      "Label: 0\n",
      "Filing:  b\"APELA\\xc3\\x87\\xc3\\x83O C\\xc3\\x8dVEL. A\\xc3\\x87\\xc3\\x83O DE COBRAN\\xc3\\x87A DE DIFEREN\\xc3\\x87AS REMUNERAT\\xc3\\x93RIAS DECORRENTES DA CONVERS\\xc3\\x83O DO CRUZEIRO REAL EM URV. SERVIDORES DO MUNIC\\xc3\\x8dPIO DE OLHO D'\\xc3\\x81GUA DO CASADO. SENTEN\\xc3\\x87A DE IMPROCED\\xc3\\x8aNCIA. IRRESIGNA\\xc3\\x87\\xc3\\x83O DOS AUTORES. CONSOANTE ENTENDIMENTO EXARADO PELO STF NO JULGAMENTO DO RE 561836/RN, COM RECONHECIDA REPERCUSS\\xc3\\x83O GERAL, BEM COMO A PAC\\xc3\\x8dFICA JURISPRUD\\xc3\\x8aNCIA DO STJ. ALEGA\\xc3\\x87\\xc3\\x83O GEN\\xc3\\x89RICA DA OCORR\\xc3\\x8aNCIA DE PREJU\\xc3\\x8dZOS. AUS\\xc3\\x8aNCIA DA DEMONSTRA\\xc3\\x87\\xc3\\x83O DO EFETIVO PREJU\\xc3\\x8dZO COM A CONVERS\\xc3\\x83O DA MOEDA. \\xc3\\x94NUS PROBAT\\xc3\\x93RIO DA PARTE AUTORA. ART. 373, I, DO CPC. RECURSO CONHECIDO E N\\xc3\\x83O PROVIDO. DECIS\\xc3\\x83O UN\\xc3\\x82NIME.\"\n",
      "Label: 0\n",
      "Filing:  b'PROCESSUAL CIVIL. EMBARGOS DE DECLARA\\xc3\\x87\\xc3\\x83O EM APELA\\xc3\\x87\\xc3\\x83O. TENTATIVA DE REDISCUSS\\xc3\\x83O DA MAT\\xc3\\x89RIA POR MEIO DOS ACLARAT\\xc3\\x93RIOS. VIA INADEQUADA, FIM DIVERSO DAS HIP\\xc3\\x93TESES PREVISTAS NO ARTIGO 1.022 DO NOVO CPC. AC\\xc3\\x93RD\\xc3\\x83O MANTIDO NA \\xc3\\x8dNTEGRA. RECURSO CONHECIDO E REJEITADO. DECIS\\xc3\\x83O UN\\xc3\\x82NIME.'\n",
      "Label: 0\n",
      "Filing:  b'HABEAS CORPUS. PENAL. PROCESSO PENAL. ROUBO MAJORADO. CONCURSO DE AGENTES E USO DE ARMA DE FOGO. PRIS\\xc3\\x83O PREVENTIVA. TESE DE NEGATIVA DE AUTORIA. AN\\xc3\\x81LISE INVI\\xc3\\x81VEL NESTA VIA ESTREITA DE COGNI\\xc3\\x87\\xc3\\x83O SUM\\xc3\\x81RIA. SUSCITADA A EXIST\\xc3\\x8aNCIA DE EXCESSO DE PRAZO PARA OFERECIMENTO DA EXORDIAL ACUSAT\\xc3\\x93RIA. SUPERA\\xc3\\x87\\xc3\\x83O. DEN\\xc3\\x9aNCIA OFERECIDA E RECEBIDA. QUESTIONADA A PRESEN\\xc3\\x87A DOS REQUISITOS AUTORIZADORES DA CUST\\xc3\\x93DIA PREVENTIVA. \\xc3\\x89DITO PRISIONAL MUITO BEM FUNDAMENTADO E COM AMPLO ARRIMO NOS AUTOS. CUST\\xc3\\x93DIA CAUTELAR IMPRESCIND\\xc3\\x8dVEL PARA GARANTIA DA ORDEM P\\xc3\\x9aBLICA. GRAVIDADE ACENTUADA DA CONDUTA A REVELAR PERICULOSIDADE DIFERENCIADA NO SUPOSTO MODO DE AGIR DO PACIENTE. INSUFICI\\xc3\\x8aNCIA DE MEDIDAS CAUTELARES ALTERNATIVAS AO C\\xc3\\x81RCERE PARA A HIP\\xc3\\x93TESE EM TESTILHA. IRRELEV\\xc3\\x82NCIA DA PRESEN\\xc3\\x87A DE CONDI\\xc3\\x87\\xc3\\x95ES SUBJETIVAS FAVOR\\xc3\\x81VEIS. FEITO DE ORIGEM EM MARCHA REGULAR, DEVIDAMENTE IMPULSIONADO PELA AUTORIDADE DITA COATORA. CONSTRANGIMENTO ILEGAL INVOCADO INEXISTENTE. PRIS\\xc3\\x83O MANTIDA. ORDEM DENEGADA. I - O Habeas Corpus \\xc3\\xa9 rem\\xc3\\xa9dio constitucional de rito c\\xc3\\xa9lere, que reclama a observ\\xc3\\xa2ncia de prova pr\\xc3\\xa9-constitu\\xc3\\xadda, n\\xc3\\xa3o sendo permitido o revolvimento de mat\\xc3\\xa9ria f\\xc3\\xa1tico-probat\\xc3\\xb3ria, dada a sua via estreita de cogni\\xc3\\xa7\\xc3\\xa3o sum\\xc3\\xa1ria. Em outras palavras, \\xc3\\xa9 vedada a an\\xc3\\xa1lise merit\\xc3\\xb3ria do feito de origem em sede de aprecia\\xc3\\xa7\\xc3\\xa3o do writ, a fim de n\\xc3\\xa3o se incorrer em indesej\\xc3\\xa1vel supress\\xc3\\xa3o de inst\\xc3\\xa2ncia. II - A alega\\xc3\\xa7\\xc3\\xa3o de excesso de prazo para oferecimento da den\\xc3\\xbancia ministerial se encontra superada, tendo em vista que a referida pe\\xc3\\xa7a n\\xc3\\xa3o s\\xc3\\xb3 j\\xc3\\xa1 foi oferecida pelo Minist\\xc3\\xa9rio P\\xc3\\xbablico, como devidamente recebida pelo impetrado. III - Os autos origin\\xc3\\xa1rios revelam periculosidade acentuada na conduta supostamente desempenhada pelo agente, que teria se mancomunado com outros seis indiv\\xc3\\xadduos para, com armas de fogo, facas e peda\\xc3\\xa7os de madeira, invadir a resid\\xc3\\xaancia das v\\xc3\\xadtimas (quatro ao todo), rendendo-as e as confinando num quarto, onde foram amarradas e, a todo tempo, amea\\xc3\\xa7adas de morte. A prop\\xc3\\xb3sito, os agentes lograram subtrair do im\\xc3\\xb3vel invadido diversos objetos, como eletrodom\\xc3\\xa9sticos e aparelhos de telefone celular, al\\xc3\\xa9m do autom\\xc3\\xb3vel da fam\\xc3\\xadlia feita de ref\\xc3\\xa9m. IV - J\\xc3\\xa1 \\xc3\\xa9 assente nesta C\\xc3\\xa2mara Criminal, na esteira do posicionamento firmado pelo Superior Tribunal de Justi\\xc3\\xa7a, que as condi\\xc3\\xa7\\xc3\\xb5es subjetivas favor\\xc3\\xa1veis ostentadas pelo acusado n\\xc3\\xa3o obstam a manuten\\xc3\\xa7\\xc3\\xa3o da segrega\\xc3\\xa7\\xc3\\xa3o cautelar, quando presentes os seus requisitos legais, como acontece na hip\\xc3\\xb3tese em apre\\xc3\\xa7o. V - O processo de origem vem trilhando seu caminho dentro da normalidade, sob a \\xc3\\xb3tica do razo\\xc3\\xa1vel, j\\xc3\\xa1 tendo sido oferecida e recebida a exordial acusat\\xc3\\xb3ria, bem como citado o acusado, estando na fase de apresenta\\xc3\\xa7\\xc3\\xa3o de resposta \\xc3\\xa0 acusa\\xc3\\xa7\\xc3\\xa3o, sendo certo que logo em breve a instru\\xc3\\xa7\\xc3\\xa3o processual tomar\\xc3\\xa1 assento. Destaque-se, a prop\\xc3\\xb3sito, que o paciente permanece preso provisoriamente h\\xc3\\xa1 pouco mais de 3 (dois) meses, lapso temporal este compat\\xc3\\xadvel e proporcional com eventual reprimenda privativa de liberdade que vier a ser cominada em caso de condena\\xc3\\xa7\\xc3\\xa3o, \\xc3\\xa0 luz das peculiaridades do feito em testilha. VI Habeas Corpus conhecido e denegado.'\n",
      "Label: 0\n",
      "Filing:  b'PROCESSO PENAL. HABEAS CORPUS. ROUBO MAJORADO E CORRUP\\xc3\\x87\\xc3\\x83O DE MENORES. ALEGA\\xc3\\x87\\xc3\\x83O DE AUS\\xc3\\x8aNCIA DE FUNDAMENTA\\xc3\\x87\\xc3\\x83O ID\\xc3\\x94NEA, CONCRETA E ATUAL PARA A MANUTEN\\xc3\\x87\\xc3\\x83O DO C\\xc3\\x81RCERE PREVENTIVO. N\\xc3\\x83O VERIFICA\\xc3\\x87\\xc3\\x83O. PACIENTE QUE PERMANECEU FORAGIDO POR LONGO PRAZO E FOI PRESO EM DECORR\\xc3\\x8aNCIA DE OUTRO PROCESSO. EMBASAMENTO CONCRETA. PEDIDO SUBSIDI\\xc3\\x81RIO. NULIDADE DOS ATOS PROCESSUAL N\\xc3\\x83O EVIDENCIADA. AUS\\xc3\\x8aNCIA DE PREJU\\xc3\\x8dZO EFETIVO. PAS DE NULLIT\\xc3\\x89 SANS GRIEF. CONHECIMENTO E DENEGA\\xc3\\x87\\xc3\\x83O DA ORDEM. DECIS\\xc3\\x83O UN\\xc3\\x82NIME. 1 O decreto segregat\\xc3\\xb3rio possui est\\xc3\\xa1 corretamente embasado na necessidade de resguardar a aplica\\xc3\\xa7\\xc3\\xa3o da lei penal, na medida em que o paciente esteve foragido e que \\xc3\\xa9 contumaz na pratica delitiva. 2 No processo penal, a decreta\\xc3\\xa7\\xc3\\xa3o de nulidade requer a ocorr\\xc3\\xaancia de efetivo preju\\xc3\\xadzo para a defesa. 3 Writ conhecido e denegado.'\n",
      "Label: 0\n",
      "Filing:  b'EMBARGOS DE DECLARA\\xc3\\x87\\xc3\\x83O EM APELA\\xc3\\x87\\xc3\\x83O C\\xc3\\x8dVEL. INOCORR\\xc3\\x8aNCIA DOS V\\xc3\\x8dCIOS ELENCADOS NO ARTIGO 1.022 DO C\\xc3\\x93DIGO DE PROCESSO CIVIL. MAT\\xc3\\x89RIA DEVIDAMENTE DELINEADA NO AC\\xc3\\x93RD\\xc3\\x83O RECORRIDO, SEM A PRESEN\\xc3\\x87A DE CONTRADI\\xc3\\x87\\xc3\\x83O. EMBARGOS CONHECIDOS E REJEITADOS. DECIS\\xc3\\x83O UN\\xc3\\x82NIME.'\n",
      "Label: 0\n"
     ]
    }
   ],
   "source": [
    "for text_batch, label_batch in raw_train_ds.take(1):\n",
    "  for i in range(10):\n",
    "    print(\"Filing: \", text_batch.numpy()[i])\n",
    "    print(\"Label:\", label_batch.numpy()[i])"
   ]
  },
  {
   "cell_type": "code",
   "execution_count": 32,
   "metadata": {},
   "outputs": [
    {
     "name": "stdout",
     "output_type": "stream",
     "text": [
      "Label 0 corresponds to no\n",
      "Label 1 corresponds to yes\n"
     ]
    }
   ],
   "source": [
    "for i, label in enumerate(raw_train_ds.class_names):\n",
    "  print(\"Label\", i, \"corresponds to\", label)"
   ]
  },
  {
   "cell_type": "code",
   "execution_count": 35,
   "metadata": {},
   "outputs": [
    {
     "name": "stdout",
     "output_type": "stream",
     "text": [
      "Found 2869 files belonging to 2 classes.\n",
      "Using 573 files for validation.\n"
     ]
    }
   ],
   "source": [
    "# Create a validation set.\n",
    "raw_val_ds = tf.keras.utils.text_dataset_from_directory(\n",
    "    pathlib.Path(filings_dir),\n",
    "    batch_size=batch_size,\n",
    "    validation_split=0.2,\n",
    "    subset='validation',\n",
    "    seed=seed)"
   ]
  },
  {
   "cell_type": "markdown",
   "metadata": {},
   "source": [
    "# Prepare the dataset for training\n",
    "[https://www.tensorflow.org/tutorials/load_data/text#prepare_the_dataset_for_training](https://www.tensorflow.org/tutorials/load_data/text#prepare_the_dataset_for_training)"
   ]
  },
  {
   "cell_type": "code",
   "execution_count": 36,
   "metadata": {},
   "outputs": [],
   "source": [
    "# TODO Vectorize etc..."
   ]
  },
  {
   "cell_type": "markdown",
   "metadata": {},
   "source": [
    "# Load data and train model\n",
    "* [tf text in 5 mins](https://codesearchonline.com/natural-language-processing-with-tensorflow-cheat-sheet/)"
   ]
  },
  {
   "cell_type": "code",
   "execution_count": null,
   "metadata": {},
   "outputs": [],
   "source": [
    "# TODO add code here"
   ]
  },
  {
   "cell_type": "markdown",
   "metadata": {},
   "source": [
    "# Save model and test prediction"
   ]
  },
  {
   "cell_type": "code",
   "execution_count": null,
   "metadata": {},
   "outputs": [],
   "source": [
    "# TODO add code here"
   ]
  }
 ],
 "metadata": {
  "kernelspec": {
   "display_name": "Python 3",
   "language": "python",
   "name": "python3"
  },
  "language_info": {
   "codemirror_mode": {
    "name": "ipython",
    "version": 3
   },
   "file_extension": ".py",
   "mimetype": "text/x-python",
   "name": "python",
   "nbconvert_exporter": "python",
   "pygments_lexer": "ipython3",
   "version": "3.8.10"
  }
 },
 "nbformat": 4,
 "nbformat_minor": 2
}
