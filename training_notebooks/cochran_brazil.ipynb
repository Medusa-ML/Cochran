{
 "cells": [
  {
   "cell_type": "markdown",
   "metadata": {},
   "source": [
    "# Install dependencies\n",
    "\n",
    "* IMPORTANT: you only need to run this one time, when you first spin up your docker notebook server\n",
    "* IMPORTANT: you need to restart the kernel after you run this\n",
    "* TODO: these deps should be eventually put into a dockerfile\n",
    "\n",
    "* INFO: read more about [what the hell is pip](https://pip.pypa.io/en/stable/) and [why installing dependencies via pip in a notebook is a stupid idea, but OK since we are prototyping here](https://towardsdev.com/pip-install-from-jupyter-notebook-485c218b50b)"
   ]
  },
  {
   "cell_type": "code",
   "execution_count": null,
   "metadata": {},
   "outputs": [],
   "source": [
    "!pip install pandas\n",
    "!pip install datasets"
   ]
  },
  {
   "cell_type": "markdown",
   "metadata": {},
   "source": [
    "# Import libraries\n",
    "\n",
    "also setup the data directory"
   ]
  },
  {
   "cell_type": "code",
   "execution_count": 5,
   "metadata": {},
   "outputs": [],
   "source": [
    "import os\n",
    "import re\n",
    "import glob\n",
    "import shutil\n",
    "import string\n",
    "import pathlib\n",
    "\n",
    "# set the data directory\n",
    "data_dir = os.path.abspath(os.path.join(os.getcwd(),'..','data'))\n",
    "\n",
    "#give matplotlib a folder to save its configs\n",
    "os.environ['MPLCONFIGDIR'] = os.path.join(data_dir,'plt_configs')\n",
    "import matplotlib.pyplot as plt\n",
    "\n",
    "#give huggingface a folder to save its stuff in too\n",
    "#you only need this if you are using a huggingface dataset\n",
    "os.environ['HF_HOME'] = os.path.join(data_dir,'hf_cache')\n",
    "import datasets\n",
    "\n",
    "import tensorflow as tf\n",
    "from tensorflow.keras import layers\n",
    "from tensorflow.keras import losses\n",
    "from tensorflow.keras.layers import TextVectorization"
   ]
  },
  {
   "cell_type": "markdown",
   "metadata": {},
   "source": [
    "# Download the data\n",
    "\n",
    "* [huggingface datasets quickstart](https://huggingface.co/docs/datasets/quickstart)\n",
    "* [joelito/brazilian_court_decisions](https://huggingface.co/datasets/joelito/brazilian_court_decisions)"
   ]
  },
  {
   "cell_type": "code",
   "execution_count": 2,
   "metadata": {},
   "outputs": [
    {
     "name": "stderr",
     "output_type": "stream",
     "text": [
      "Using custom data configuration joelito--brazilian_court_decisions-cc57c1c8c69e3b04\n",
      "Found cached dataset json (/tf/data/hf_cache/datasets/joelito___json/joelito--brazilian_court_decisions-cc57c1c8c69e3b04/0.0.0/e6070c77f18f01a5ad4551a8b7edfba20b8438b7cad4d94e6ad9378022ce4aab)\n"
     ]
    },
    {
     "data": {
      "application/vnd.jupyter.widget-view+json": {
       "model_id": "f6df7e63e7ac4df8979d211812531dc5",
       "version_major": 2,
       "version_minor": 0
      },
      "text/plain": [
       "  0%|          | 0/3 [00:00<?, ?it/s]"
      ]
     },
     "metadata": {},
     "output_type": "display_data"
    }
   ],
   "source": [
    "from datasets import load_dataset\n",
    "\n",
    "dataset = load_dataset(\"joelito/brazilian_court_decisions\")"
   ]
  },
  {
   "cell_type": "markdown",
   "metadata": {},
   "source": [
    "# Inspect the data \n",
    "\n",
    "* [Know your dataset](https://huggingface.co/docs/datasets/access)"
   ]
  },
  {
   "cell_type": "code",
   "execution_count": 3,
   "metadata": {},
   "outputs": [
    {
     "data": {
      "text/plain": [
       "{'process_number': '0800304-08.2018.8.02.0000',\n",
       " 'orgao_julgador': 'Tribunal Pleno',\n",
       " 'publish_date': '12/03/2019',\n",
       " 'judge_relator': 'Des. João Luiz Azevedo Lessa',\n",
       " 'ementa_text': 'DIREITO PENAL E PROCESSUAL PENAL. REVISÃO CRIMINAL. ART. 621 DO CÓDIGO DE PROCESSO PENAL. REQUERENTE CONDENADO EM JÚRI POPULAR PELA PRÁTICA DOS CRIMES DE HOMICÍDIO DUPLAMENTE QUALIFICADO E HOMICÍDIO QUALIFICADO TENTADO. PLEITO DE REFAZIMENTO DA DOSIMETRIA DA PENA IMPOSTA AO REQUERENTE. ADMISSIBILIDADE NA VIA REVISIONAL. PRECEDENTES. ALEGAÇÃO DE ERRO NO PROCESSO DE DOSIMETRIA DA PENA. COMPORTAMENTO DA VÍTIMA. CIRCUNSTÂNCIA JUDICIAL NEUTRA QUE NÃO PODE SER CONSIDERADA DE FORMA DESFAVORÁVEL AO SENTENCIANDO SEGUNDO PRECEDENTES DO SUPERIOR TRIBUNAL DE JUSTIÇA E NOVO ENTENDIMENTO DA CÂMARA CRIMINAL DESTE TRIBUNAL DE JUSTIÇA. AFASTAMENTO. CULPABILIDADE. AUSÊNCIA DE EXPOSIÇÃO DE MOTIVOS PARA O INCREMENTO DA PENA-BASE. AFASTADO O DESVALOR. VALORAÇÃO ATRIBUÍDA ÀS CIRCUNSTÂNCIAS DO CRIME MANTIDA. FUNDAMENTAÇÃO IDÔNEA. PENA-BASE REDUZIDA. COMPENSAÇÃO ENTRE A AGRAVANTE DA MOTIVAÇÃO TORPE E A ATENUANTE DA CONFISSÃO ESPONTÂNEA. PENA PRIVATIVA DE LIBERDADE REDIMENSIONADA. CRIME TENTADO. APLICADA A FRAÇÃO REDUTORA MÁXIMA ANTE A DISTÂNCIA ENTRE OS ATOS PRATICADOS PELO REQUERENTE E A CONSUMAÇÃO DO CRIME. PENA REDIMENSIONADA. REVISÃO CRIMINAL JULGADA PARCIALMENTE PROCEDENTE. DECISÃO UNÂNIME.',\n",
       " 'decision_description': 'DIREITO PENAL E PROCESSUAL PENAL. REVISÃO CRIMINAL. ARTIGO 621 DO CÓDIGO DE PROCESSO PENAL. REQUERENTE CONDENADO EM JÚRI POPULAR PELA PRÁTICA DOS CRIMES DE HOMICÍDIO DUPLAMENTE QUALIFICADO E HOMICÍDIO QUALIFICADO TENTADO. PLEITO DE REFAZIMENTO DA DOSIMETRIA DA PENA IMPOSTA AO REQUERENTE. ADMISSIBILIDADE NA VIA REVISIONAL. PRECEDENTES. ALEGAÇÃO DE ERRO NO PROCESSO DE DOSIMETRIA DA PENA. COMPORTAMENTO DA VÍTIMA. CIRCUNSTÂNCIA JUDICIAL NEUTRA QUE NÃO PODE SER CONSIDERADA DE FORMA DESFAVORÁVEL AO SENTENCIANDO SEGUNDO PRECEDENTES DO SUPERIOR TRIBUNAL DE JUSTIÇA E NOVO ENTENDIMENTO DA CÂMARA CRIMINAL DESTE TRIBUNAL DE JUSTIÇA. AFASTAMENTO. CULPABILIDADE. AUSÊNCIA DE EXPOSIÇÃO DE MOTIVOS PARA O INCREMENTO DA PENA-BASE. AFASTADO O DESVALOR. VALORAÇÃO ATRIBUÍDA ÀS CIRCUNSTÂNCIAS DO CRIME MANTIDA. FUNDAMENTAÇÃO IDÔNEA. PENA-BASE REDUZIDA. COMPENSAÇÃO ENTRE A AGRAVANTE DA MOTIVAÇÃO TORPE E A ATENUANTE DA CONFISSÃO ESPONTÂNEA. PENA PRIVATIVA DE LIBERDADE REDIMENSIONADA. CRIME TENTADO. APLICADA A FRAÇÃO REDUTORA MÁXIMA ANTE A DISTÂNCIA ENTRE OS ATOS PRATICADOS PELO REQUERENTE E A CONSUMAÇÃO DO CRIME. PENA REDIMENSIONADA.',\n",
       " 'judgment_text': ' REVISÃO CRIMINAL JULGADA PARCIALMENTE PROCEDENTE',\n",
       " 'judgment_label': 'partial',\n",
       " 'unanimity_text': ' DECISÃO UNÂNIME',\n",
       " 'unanimity_label': 'unanimity'}"
      ]
     },
     "execution_count": 3,
     "metadata": {},
     "output_type": "execute_result"
    }
   ],
   "source": [
    "dataset['train'][0]"
   ]
  },
  {
   "cell_type": "markdown",
   "metadata": {},
   "source": [
    "# Setup a pandas dataframe\n",
    "* [Load a pandas DataFrame](https://www.tensorflow.org/tutorials/load_data/pandas_dataframe)\n",
    "* [Load text](https://www.tensorflow.org/tutorials/load_data/text)"
   ]
  },
  {
   "cell_type": "code",
   "execution_count": null,
   "metadata": {},
   "outputs": [],
   "source": [
    "# TODO, add code here :)"
   ]
  },
  {
   "cell_type": "markdown",
   "metadata": {},
   "source": [
    "# Load data and train model\n",
    "* [tf text in 5 mins](https://codesearchonline.com/natural-language-processing-with-tensorflow-cheat-sheet/)"
   ]
  },
  {
   "cell_type": "code",
   "execution_count": 6,
   "metadata": {},
   "outputs": [],
   "source": [
    "# TODO add code here"
   ]
  },
  {
   "cell_type": "markdown",
   "metadata": {},
   "source": [
    "# Save model and test prediction"
   ]
  },
  {
   "cell_type": "code",
   "execution_count": 7,
   "metadata": {},
   "outputs": [],
   "source": [
    "# TODO add code here"
   ]
  }
 ],
 "metadata": {
  "kernelspec": {
   "display_name": "Python 3",
   "language": "python",
   "name": "python3"
  },
  "language_info": {
   "codemirror_mode": {
    "name": "ipython",
    "version": 3
   },
   "file_extension": ".py",
   "mimetype": "text/x-python",
   "name": "python",
   "nbconvert_exporter": "python",
   "pygments_lexer": "ipython3",
   "version": "3.8.10"
  }
 },
 "nbformat": 4,
 "nbformat_minor": 2
}
